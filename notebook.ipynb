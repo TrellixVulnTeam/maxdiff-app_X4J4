{
 "cells": [
  {
   "cell_type": "code",
   "execution_count": 1,
   "metadata": {
    "pycharm": {
     "is_executing": true,
     "name": "#%%\n"
    }
   },
   "outputs": [],
   "source": [
    "import pandas as pd\n",
    "import numpy as np\n",
    "from random import shuffle\n",
    "from math import ceil\n",
    "import os"
   ]
  },
  {
   "cell_type": "code",
   "execution_count": 31,
   "metadata": {
    "pycharm": {
     "name": "#%%\n"
    }
   },
   "outputs": [],
   "source": [
    "def generate_design(\n",
    "        versions,\n",
    "        number_of_items,\n",
    "        number_of_screens,\n",
    "        max_items_per_screens,\n",
    "        screens_with_max\n",
    "):\n",
    "    \"\"\"\n",
    "    Returns a pandas dataframe with a maxdiff design.\n",
    "    If the parameters are invalid, returns a string describing why instead\n",
    "    \"\"\"\n",
    "    pass"
   ]
  },
  {
   "cell_type": "markdown",
   "metadata": {
    "pycharm": {
     "name": "#%% md\n"
    }
   },
   "source": [
    "**TODO**\n",
    "\n",
    "## Finish generate_design_function\n",
    "1. Break script code into three smaller functions called by generate design\n",
    "2. Change assert statements into if statement lines, where if the condition is false, they return a message describing the error\n",
    "3. Remove input lines"
   ]
  },
  {
   "cell_type": "code",
   "execution_count": 3,
   "metadata": {
    "pycharm": {
     "name": "#%%\n"
    }
   },
   "outputs": [],
   "source": [
    "# versions = int(input(\"Versions? \"))\n",
    "# number_of_items = int(input(\"Number of Items? \"))\n",
    "# number_of_screens = int(input(\"Number of Screens? \"))\n",
    "# max_items_per_screen = int(input(\"Maximum Items per Screen? \"))\n",
    "# screens_with_max = int(\n",
    "#     input(f\"Number of Screens with {max_items_per_screen} items? \"))\n",
    "\n",
    "# check to make sure there's enough screens to show every item\n",
    "versions = 100\n",
    "number_of_items = 18\n",
    "number_of_screens = 5\n",
    "max_items_per_screen = 4\n",
    "screens_with_max = 4\n",
    "\n",
    "is_possible_to_show_all_items = max_items_per_screen * number_of_screens >= number_of_items\n",
    "if not is_possible_to_show_all_items:\n",
    "    print(\n",
    "        f\"It's not possible to show {number_of_items} items with these parameters.\"\n",
    "        f\" At most, only {max_items_per_screen * number_of_screens}\"\n",
    "        \" items can be shown.\"\n",
    "    )"
   ]
  },
  {
   "cell_type": "code",
   "execution_count": 5,
   "metadata": {
    "pycharm": {
     "name": "#%%\n"
    }
   },
   "outputs": [
    {
     "name": "stdout",
     "output_type": "stream",
     "text": [
      "Based on these parameters, there will be 2 item(s) remaining after 4 screens hold 4 maximum items.\n",
      "Based on these parameters, there will be 1 screen(s) remaining after 4 screens hold 4 maximum items.\n"
     ]
    },
    {
     "ename": "NameError",
     "evalue": "name 'ceil' is not defined",
     "output_type": "error",
     "traceback": [
      "\u001B[0;31m---------------------------------------------------------------------------\u001B[0m",
      "\u001B[0;31mNameError\u001B[0m                                 Traceback (most recent call last)",
      "\u001B[0;32m/tmp/ipykernel_124/3676958457.py\u001B[0m in \u001B[0;36m<module>\u001B[0;34m\u001B[0m\n\u001B[1;32m     12\u001B[0m \u001B[0;34m\u001B[0m\u001B[0m\n\u001B[1;32m     13\u001B[0m \u001B[0;32mtry\u001B[0m\u001B[0;34m:\u001B[0m\u001B[0;34m\u001B[0m\u001B[0;34m\u001B[0m\u001B[0m\n\u001B[0;32m---> 14\u001B[0;31m     max_items_per_each_remaining_screen = ceil(\n\u001B[0m\u001B[1;32m     15\u001B[0m         \u001B[0mitems_left_after_all_screens_with_max\u001B[0m\u001B[0;34m\u001B[0m\u001B[0;34m\u001B[0m\u001B[0m\n\u001B[1;32m     16\u001B[0m         / screens_left_after_all_screens_with_max)\n",
      "\u001B[0;31mNameError\u001B[0m: name 'ceil' is not defined"
     ]
    }
   ],
   "source": [
    "# Calculate Parameters\n",
    "items_left_after_all_screens_with_max = number_of_items - screens_with_max * max_items_per_screen\n",
    "print( \n",
    "    f\"Based on these parameters, there will be {items_left_after_all_screens_with_max} item(s) remaining after\"\n",
    "    f\" {screens_with_max} screens hold {max_items_per_screen} maximum items.\" )\n",
    "\n",
    "screens_left_after_all_screens_with_max = number_of_screens - screens_with_max\n",
    "print(\n",
    "    f\"Based on these parameters, there will be {screens_left_after_all_screens_with_max} screen(s) remaining\"\n",
    "    f\" after {screens_with_max} screens hold {max_items_per_screen} maximum items.\")\n",
    "\n",
    "\n",
    "try:\n",
    "    max_items_per_each_remaining_screen = ceil(\n",
    "        items_left_after_all_screens_with_max\n",
    "        / screens_left_after_all_screens_with_max)\n",
    "    print(\n",
    "        f\"There will be {max_items_per_each_remaining_screen} maximum items per remaining screen(s).\")\n",
    "    \n",
    "except ZeroDivisionError:\n",
    "    max_items_per_each_remaining_screen = max_items_per_screen\n",
    "    \n",
    "    \n",
    "\n",
    "    "
   ]
  },
  {
   "cell_type": "code",
   "execution_count": 68,
   "metadata": {},
   "outputs": [
    {
     "name": "stdout",
     "output_type": "stream",
     "text": [
      "True\n"
     ]
    }
   ],
   "source": [
    "# Calculate Items per Screen\n",
    "## creates the list items_per_screen where each\n",
    "items_per_screen = []\n",
    "items_seen = 0\n",
    "screen = 1\n",
    "for screen in range(number_of_screens):\n",
    "    if screen < screens_with_max:\n",
    "        items_per_screen.append(max_items_per_screen)\n",
    "        items_seen += max_items_per_screen\n",
    "    else:\n",
    "        items_left_to_see = number_of_items - items_seen\n",
    "        if max_items_per_screen > items_left_to_see:\n",
    "            items_per_screen.append(items_left_to_see)\n",
    "            items_seen += items_left_to_see\n",
    "        else:\n",
    "            items_per_screen.append(max_items_per_each_remaining_screen)\n",
    "            items_seen += max_items_per_each_remaining_screen\n",
    "\n",
    "print({sum(items_per_screen)} == {number_of_items})\n",
    "\n",
    "\n",
    "blanks_to_add = sum(\n",
    "    [max_items_per_screen - number_of_items for number_of_items in items_per_screen])"
   ]
  },
  {
   "cell_type": "code",
   "execution_count": 4,
   "metadata": {
    "pycharm": {
     "name": "#%%\n"
    }
   },
   "outputs": [
    {
     "name": "stdout",
     "output_type": "stream",
     "text": [
      "\n",
      "Example Version\n",
      "\n",
      "Screen 1\t17\t11\t9\t14\n",
      "Screen 2\t10\t2\t15\t7\n",
      "Screen 3\t12\t5\t6\t8\n",
      "Screen 4\t13\t1\t4\tnan\n",
      "Screen 5\t16\t3\tnan\tnan\n",
      "Generating Design...\n"
     ]
    },
    {
     "data": {
      "text/html": [
       "<div>\n",
       "<style scoped>\n",
       "    .dataframe tbody tr th:only-of-type {\n",
       "        vertical-align: middle;\n",
       "    }\n",
       "\n",
       "    .dataframe tbody tr th {\n",
       "        vertical-align: top;\n",
       "    }\n",
       "\n",
       "    .dataframe thead th {\n",
       "        text-align: right;\n",
       "    }\n",
       "</style>\n",
       "<table border=\"1\" class=\"dataframe\">\n",
       "  <thead>\n",
       "    <tr style=\"text-align: right;\">\n",
       "      <th></th>\n",
       "      <th>Version</th>\n",
       "      <th>Set</th>\n",
       "      <th>Item1</th>\n",
       "      <th>Item2</th>\n",
       "      <th>Item3</th>\n",
       "      <th>Item4</th>\n",
       "    </tr>\n",
       "  </thead>\n",
       "  <tbody>\n",
       "    <tr>\n",
       "      <th>0</th>\n",
       "      <td>1</td>\n",
       "      <td>1</td>\n",
       "      <td>14</td>\n",
       "      <td>2</td>\n",
       "      <td>11.0</td>\n",
       "      <td>7.0</td>\n",
       "    </tr>\n",
       "    <tr>\n",
       "      <th>1</th>\n",
       "      <td>1</td>\n",
       "      <td>2</td>\n",
       "      <td>17</td>\n",
       "      <td>8</td>\n",
       "      <td>16.0</td>\n",
       "      <td>10.0</td>\n",
       "    </tr>\n",
       "    <tr>\n",
       "      <th>2</th>\n",
       "      <td>1</td>\n",
       "      <td>3</td>\n",
       "      <td>4</td>\n",
       "      <td>6</td>\n",
       "      <td>12.0</td>\n",
       "      <td>9.0</td>\n",
       "    </tr>\n",
       "    <tr>\n",
       "      <th>3</th>\n",
       "      <td>1</td>\n",
       "      <td>4</td>\n",
       "      <td>15</td>\n",
       "      <td>3</td>\n",
       "      <td>5.0</td>\n",
       "      <td>NaN</td>\n",
       "    </tr>\n",
       "    <tr>\n",
       "      <th>4</th>\n",
       "      <td>1</td>\n",
       "      <td>5</td>\n",
       "      <td>13</td>\n",
       "      <td>1</td>\n",
       "      <td>NaN</td>\n",
       "      <td>NaN</td>\n",
       "    </tr>\n",
       "    <tr>\n",
       "      <th>...</th>\n",
       "      <td>...</td>\n",
       "      <td>...</td>\n",
       "      <td>...</td>\n",
       "      <td>...</td>\n",
       "      <td>...</td>\n",
       "      <td>...</td>\n",
       "    </tr>\n",
       "    <tr>\n",
       "      <th>495</th>\n",
       "      <td>100</td>\n",
       "      <td>1</td>\n",
       "      <td>13</td>\n",
       "      <td>11</td>\n",
       "      <td>6.0</td>\n",
       "      <td>8.0</td>\n",
       "    </tr>\n",
       "    <tr>\n",
       "      <th>496</th>\n",
       "      <td>100</td>\n",
       "      <td>2</td>\n",
       "      <td>14</td>\n",
       "      <td>3</td>\n",
       "      <td>12.0</td>\n",
       "      <td>17.0</td>\n",
       "    </tr>\n",
       "    <tr>\n",
       "      <th>497</th>\n",
       "      <td>100</td>\n",
       "      <td>3</td>\n",
       "      <td>5</td>\n",
       "      <td>9</td>\n",
       "      <td>1.0</td>\n",
       "      <td>10.0</td>\n",
       "    </tr>\n",
       "    <tr>\n",
       "      <th>498</th>\n",
       "      <td>100</td>\n",
       "      <td>4</td>\n",
       "      <td>4</td>\n",
       "      <td>15</td>\n",
       "      <td>16.0</td>\n",
       "      <td>NaN</td>\n",
       "    </tr>\n",
       "    <tr>\n",
       "      <th>499</th>\n",
       "      <td>100</td>\n",
       "      <td>5</td>\n",
       "      <td>2</td>\n",
       "      <td>7</td>\n",
       "      <td>NaN</td>\n",
       "      <td>NaN</td>\n",
       "    </tr>\n",
       "  </tbody>\n",
       "</table>\n",
       "<p>500 rows × 6 columns</p>\n",
       "</div>"
      ],
      "text/plain": [
       "     Version  Set  Item1  Item2  Item3  Item4\n",
       "0          1    1     14      2   11.0    7.0\n",
       "1          1    2     17      8   16.0   10.0\n",
       "2          1    3      4      6   12.0    9.0\n",
       "3          1    4     15      3    5.0    NaN\n",
       "4          1    5     13      1    NaN    NaN\n",
       "..       ...  ...    ...    ...    ...    ...\n",
       "495      100    1     13     11    6.0    8.0\n",
       "496      100    2     14      3   12.0   17.0\n",
       "497      100    3      5      9    1.0   10.0\n",
       "498      100    4      4     15   16.0    NaN\n",
       "499      100    5      2      7    NaN    NaN\n",
       "\n",
       "[500 rows x 6 columns]"
      ]
     },
     "execution_count": 4,
     "metadata": {},
     "output_type": "execute_result"
    }
   ],
   "source": [
    "\n",
    "\n",
    "# Show Example Version\n",
    "print('\\nExample Version\\n')\n",
    "items = list(range(1, number_of_items + 1))\n",
    "shuffle(items)\n",
    "start = 0\n",
    "for screen_number, items_in_screen in enumerate(items_per_screen):\n",
    "    end = start + items_in_screen\n",
    "    added_blanks = [np.nan] * (max_items_per_screen - items_in_screen)\n",
    "    screen = items[start:end] + added_blanks\n",
    "    start += items_in_screen\n",
    "    print(f\"Screen {screen_number+1}\\t\" +\n",
    "          \"\\t\".join([str(item) for item in screen]))\n",
    "\n",
    "# assert 'y' in input('Continue? (y/n)').lower()\n",
    "\n",
    "# Generate Design\n",
    "print('Generating Design...')\n",
    "items = list(range(1, number_of_items + 1))\n",
    "design = []\n",
    "blanks_added = []\n",
    "for version in range(1, versions+1):\n",
    "    shuffle(items)\n",
    "    start = 0\n",
    "    blank_count = 0\n",
    "    for screen_number, items_in_screen in enumerate(items_per_screen):\n",
    "        end = start + items_in_screen\n",
    "        added_blanks = [np.nan] * (max_items_per_screen - items_in_screen)\n",
    "        blank_count += len(added_blanks)\n",
    "        screen = items[start:end] + added_blanks\n",
    "        start += items_in_screen\n",
    "        design.append([version, screen_number+1] + screen)\n",
    "    blanks_added.append(blank_count)\n",
    "\n",
    "design_as_df = pd.DataFrame(design, columns=[\n",
    "                            'Version', 'Set'] + [f'Item{n+1}' for n in range(max_items_per_screen)])\n",
    "\n",
    "design_as_df['Blanks'] = design_as_df.isna().sum(axis=1)\n",
    "assert len(design_as_df.groupby('Version').sum()['Blanks'].unique()) == 1"
   ]
  },
  {
   "cell_type": "code",
   "execution_count": 20,
   "metadata": {},
   "outputs": [
    {
     "data": {
      "text/plain": [
       "2"
      ]
     },
     "execution_count": 20,
     "metadata": {},
     "output_type": "execute_result"
    }
   ],
   "source": [
    "len(pd.Series([2,3,2,2,]).unique())"
   ]
  },
  {
   "cell_type": "code",
   "execution_count": 17,
   "metadata": {
    "pycharm": {
     "name": "#%%\n"
    }
   },
   "outputs": [
    {
     "name": "stdout",
     "output_type": "stream",
     "text": [
      "\n",
      " Running checks...\n",
      "✅ No duplicate versions detected\n",
      "number_of_items=17, number of blanks_added=3\n",
      "expected_unique_values(including blanks)=18\n",
      "number of unique sets of items in each version=1\n",
      "number of unique items in version 1=18\n",
      "item appears 1 time in version 1=[True, True, True, True, True, True, True, True, True, True, True, True, True, True, True, True, True]\n",
      "✅ Each item appears exactly once in each version\n",
      "✅ Every version has the same number of blanks (3)\n",
      "\n",
      "Saving design...\n"
     ]
    }
   ],
   "source": [
    "print('\\n Running checks...')\n",
    "# Design Checks\n",
    "# Check for Same Number of Blanks per Version\n",
    "design_as_df['Blanks'] = design_as_df.isna().sum(axis=1)\n",
    "assert len(design_as_df.groupby('Version').sum()['Blanks'].unique()) == 1\n",
    "\n",
    "# Check for Duplicate Versions\n",
    "versions = design_as_df.drop('Blanks', axis=1).groupby('Version').groups\n",
    "\n",
    "item_cols = [col for col in design_as_df if 'Item' in col]\n",
    "\n",
    "deduped_versions = []\n",
    "has_duplicates = False\n",
    "for version in versions:\n",
    "    version_indices = versions[version]\n",
    "    values = design_as_df.loc[versions[version], item_cols].values.tolist()\n",
    "    if values in deduped_versions:\n",
    "        has_duplicates = True\n",
    "        print(f'duplicate {version}')\n",
    "    else:\n",
    "        deduped_versions.append(values)\n",
    "\n",
    "assert not has_duplicates\n",
    "print('✅ No duplicate versions detected')\n",
    "\n",
    "unique_sets_of_items_by_version = np.unique(\n",
    "    design_as_df.groupby(['Version'])[[col for col in design_as_df if 'Item' in col]].apply(\n",
    "        lambda x: list(np.unique(x, return_counts=True)[1])\n",
    "    ).values\n",
    ")\n",
    "\n",
    "\n",
    "#expected_unique_values = number_of_items + blanks_added[0]\n",
    "expected_unique_values = number_of_items\n",
    "blanks_were_added = blanks_added[0] > 0\n",
    "if blanks_were_added:\n",
    "    expected_unique_values += 1\n",
    "print(f'number_of_items={number_of_items}, number of blanks_added={blanks_added[0]}')\n",
    "print(f'expected_unique_values(including blanks)={expected_unique_values}')\n",
    "print(f'number of unique sets of items in each version={len(unique_sets_of_items_by_version)}')\n",
    "print(f'number of unique items in version 1={len(unique_sets_of_items_by_version[0])}')\n",
    "print(f'item appears 1 time in version 1={[count == 1 for count in unique_sets_of_items_by_version[0][:number_of_items]]}')\n",
    "assert (len(unique_sets_of_items_by_version) == 1\n",
    "        and len(unique_sets_of_items_by_version[0]) == expected_unique_values\n",
    "        and all([count == 1 for count in unique_sets_of_items_by_version[0][:number_of_items]]))\n",
    "print('✅ Each item appears exactly once in each version')\n",
    "\n",
    "assert len(set(blanks_added)) == 1\n",
    "print(f'✅ Every version has the same number of blanks ({blanks_added[0]})')\n",
    "# Output Design\n",
    "n = 1\n",
    "fn = f'design{n}.xlsx'\n",
    "while os.path.exists(fn):\n",
    "    n += 1\n",
    "    fn = f'design{n}.xlsx'\n",
    "\n",
    "print('\\nSaving design...')\n",
    "design_as_df.drop('Blanks', axis=1, inplace=True)\n",
    "# design_as_df.to_excel(fn, index=False)\n",
    "\n",
    "# input(f'Design saved as {fn} in {os.getcwd()}. Press any key to continue.')\n"
   ]
  },
  {
   "cell_type": "code",
   "execution_count": 24,
   "metadata": {
    "pycharm": {
     "name": "#%%\n"
    }
   },
   "outputs": [],
   "source": [
    "# Calculate Parameters\n",
    "items_left_after_all_screens_with_max = number_of_items - \\\n",
    "    screens_with_max * max_items_per_screen\n",
    "\n",
    "screens_left_after_all_screens_with_max = number_of_screens - screens_with_max\n",
    "\n",
    "try:\n",
    "    max_items_per_each_remaining_screen = ceil(\n",
    "        items_left_after_all_screens_with_max\n",
    "        / screens_left_after_all_screens_with_max)\n",
    "except ZeroDivisionError:\n",
    "    max_items_per_each_remaining_screen = max_items_per_screen"
   ]
  }
 ],
 "metadata": {
  "kernelspec": {
   "display_name": "Python 3 (ipykernel)",
   "language": "python",
   "name": "python3"
  },
  "language_info": {
   "codemirror_mode": {
    "name": "ipython",
    "version": 3
   },
   "file_extension": ".py",
   "mimetype": "text/x-python",
   "name": "python",
   "nbconvert_exporter": "python",
   "pygments_lexer": "ipython3",
   "version": "3.8.10"
  }
 },
 "nbformat": 4,
 "nbformat_minor": 1
}