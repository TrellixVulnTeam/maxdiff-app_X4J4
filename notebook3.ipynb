{
 "cells": [
  {
   "cell_type": "code",
   "execution_count": null,
   "metadata": {
    "collapsed": true
   },
   "outputs": [],
   "source": [
    "import pandas as pd\n",
    "import numpy as np\n",
    "from flask import Flask, send_file, request, current_app\n",
    "import os\n",
    "from designer import generate_design, get_sample_design\n",
    "\n",
    "app = Flask(__name__, static_folder=\"../build\", static_url_path=\"/\")\n",
    "\n",
    "# if __name__ == '__main__':\n",
    "#     app.run(debug=True, use_debugger=False, use_reloader=False, passthrough_errors=True)\n",
    "\n",
    "@app.route('/')\n",
    "def index():\n",
    "    return app.send_static_file('index.html')\n",
    "\n",
    "@app.errorhandler(404)\n",
    "def not_found(e):\n",
    "    return app.send_static_file('index.html')\n",
    "\n",
    "@app.route(\"/api/get_aug_md_design\", methods = ['POST'])\n",
    "def get_aug_md_design():\n",
    "    payload = request.get_json() or {}\n",
    "    print(payload.get('data'))\n",
    "    print(payload)\n",
    "    # make a good place to save the file\n",
    "    if not os.path.exists(current_app.instance_path):\n",
    "        os.mkdir(current_app.instance_path)\n",
    "    if not os.path.exists(os.path.join(current_app.instance_path, \"files\")):\n",
    "        os.mkdir(os.path.join(current_app.instance_path, \"files\"))\n",
    "    design_fn =  os.path.join(\n",
    "            current_app.instance_path, \"files\", \"AugMdDesign.csv\")\n",
    "    augmd_df = generate_design(payload[\"versions\"], payload[\"numOfItems\"], payload[\"screens\"], payload[\"maxItemsPerScreen\"], payload[\"screensWithMaxItems\"])\n",
    "    augmd_df.to_csv(design_fn, index=False)\n",
    "    return send_file(\n",
    "        design_fn,\n",
    "        mimetype=(\n",
    "            \"text/csv\"\n",
    "        ),\n",
    "        as_attachment=True,\n",
    "        cache_timeout=0,\n",
    "    )\n",
    "\n",
    "\"\"\"\n",
    "    get_version_preview function has same basic functionality of get_aug_md_design function\n",
    "    but get_version_preview function is returning a dictionary for the front-end to fetch\n",
    "    in order to display an example version to the user using their input data (instead of a downloadable excel file)\n",
    "\"\"\"\n",
    "\n",
    "@app.route(\"/api/get_version_preview\", methods = ['POST'])\n",
    "def get_version_preview():\n",
    "    payload = request.get_json() or {}\n",
    "    print(payload.get('data'))\n",
    "    print(payload)\n",
    "    #check parameters\n",
    "    augmd_df = get_sample_design(payload[\"versions\"], payload[\"numOfItems\"], payload[\"screens\"], payload[\"maxItemsPerScreen\"], payload[\"screensWithMaxItems\"])\n",
    "    return(\n",
    "\n",
    "    )\n",
    "\n",
    "\n",
    "\n"
   ]
  },
  {
   "cell_type": "code",
   "execution_count": null,
   "outputs": [],
   "source": [
    "\"\"\"\n",
    "    - create api route for getting a version preview\n",
    "            - setup will be similar to get md design route, but getting json back instead of file\n",
    "            - use commented out line instead of the blob\n",
    "            - api route will return a dictionary {}\n",
    "    - vp route sends any inputs that have been changed\n",
    "    - if inputs are valid, route sends back example version\n",
    "            - {\"sample_design\": my_sample_design_thats_a_list_of_lists}\n",
    "    - if inputs are not valid, route sends back a status code with an error message\n",
    "            - return {\"message\": \"your design is bad because you suck\"}, 400\n",
    "\n",
    "    - in your fetch you'll check the status code\n",
    "    - before the fetch you'll have a line setting up a variable to store the status code in like `let status = 0`\n",
    "    - before you do the res.json() line you'll do status = res.status\n",
    "    - in the next little block after your res.json is done and you have the data from the api to work with, you'll check what the status code is\n",
    "    - if it's 400 you know you have an error, and you'll put the error into state and display it. If it's not 400, you know you have an example version and the inputs are good, so you'll put the example version in state and display that.\n",
    "\n",
    "\n",
    "\n",
    "\n",
    "\"\"\""
   ],
   "metadata": {
    "collapsed": false,
    "pycharm": {
     "name": "#%%\n"
    }
   }
  },
  {
   "cell_type": "code",
   "execution_count": null,
   "outputs": [],
   "source": [],
   "metadata": {
    "collapsed": false,
    "pycharm": {
     "name": "#%%\n"
    }
   }
  }
 ],
 "metadata": {
  "kernelspec": {
   "display_name": "Python 3",
   "language": "python",
   "name": "python3"
  },
  "language_info": {
   "codemirror_mode": {
    "name": "ipython",
    "version": 2
   },
   "file_extension": ".py",
   "mimetype": "text/x-python",
   "name": "python",
   "nbconvert_exporter": "python",
   "pygments_lexer": "ipython2",
   "version": "2.7.6"
  }
 },
 "nbformat": 4,
 "nbformat_minor": 0
}